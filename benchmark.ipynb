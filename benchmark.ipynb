{
 "cells": [
  {
   "cell_type": "code",
   "execution_count": 1,
   "metadata": {},
   "outputs": [
    {
     "data": {
      "application/javascript": [
       "\n",
       "try {\n",
       "require(['notebook/js/codecell'], function(codecell) {\n",
       "  codecell.CodeCell.options_default.highlight_modes[\n",
       "      'magic_text/x-csrc'] = {'reg':[/^%%microblaze/]};\n",
       "  Jupyter.notebook.events.one('kernel_ready.Kernel', function(){\n",
       "      Jupyter.notebook.get_cells().map(function(cell){\n",
       "          if (cell.cell_type == 'code'){ cell.auto_highlight(); } }) ;\n",
       "  });\n",
       "});\n",
       "} catch (e) {};\n"
      ]
     },
     "metadata": {},
     "output_type": "display_data"
    },
    {
     "data": {
      "application/javascript": [
       "\n",
       "try {\n",
       "require(['notebook/js/codecell'], function(codecell) {\n",
       "  codecell.CodeCell.options_default.highlight_modes[\n",
       "      'magic_text/x-csrc'] = {'reg':[/^%%pybind11/]};\n",
       "  Jupyter.notebook.events.one('kernel_ready.Kernel', function(){\n",
       "      Jupyter.notebook.get_cells().map(function(cell){\n",
       "          if (cell.cell_type == 'code'){ cell.auto_highlight(); } }) ;\n",
       "  });\n",
       "});\n",
       "} catch (e) {};\n"
      ]
     },
     "metadata": {},
     "output_type": "display_data"
    }
   ],
   "source": [
    "import ctypes\n",
    "from pynq import Overlay\n",
    "from pynq import allocate\n",
    "import numpy as np\n",
    "import random\n",
    "import pynq\n",
    "\n",
    "from pynq.pmbus import DataRecorder\n",
    "from pynq import Device\n",
    "\n",
    "from framework.image import SobelGradient\n",
    "from framework.losses import MutualInformationLossNative, MutualInformationLossFPGA\n",
    "from framework.optimizers import GradientDescentOptimizer\n",
    "from framework.transforms import RotateShiftTransform\n",
    "\n",
    "import pydicom\n",
    "import cv2\n",
    "from matplotlib import pyplot as plt\n",
    "from tqdm import tqdm\n",
    "from timeit import default_timer as timer\n",
    "import os\n",
    "import time"
   ]
  },
  {
   "cell_type": "code",
   "execution_count": 2,
   "metadata": {},
   "outputs": [],
   "source": [
    "_lib = ctypes.CDLL(\"framework/losses.lib\")\n",
    "_lib.parzen_mutual_information_matrix.argtypes = [\n",
    "    np.ctypeslib.ndpointer(dtype=np.uint8, ndim=1, flags='C_CONTIGUOUS'),\n",
    "    np.ctypeslib.ndpointer(dtype=np.uint8, ndim=1, flags='C_CONTIGUOUS'),\n",
    "    ctypes.c_int,\n",
    "    np.ctypeslib.ndpointer(dtype=np.float32, ndim=1, flags='C_CONTIGUOUS')\n",
    "]\n",
    "\n",
    "_lib.parzen_mutual_information_grad.argtypes = [\n",
    "    np.ctypeslib.ndpointer(dtype=np.uint8, ndim=1, flags='C_CONTIGUOUS'),\n",
    "    np.ctypeslib.ndpointer(dtype=np.uint8, ndim=1, flags='C_CONTIGUOUS'),\n",
    "    ctypes.c_int,\n",
    "    np.ctypeslib.ndpointer(dtype=np.float32, ndim=1, flags='C_CONTIGUOUS')\n",
    "]\n",
    "\n",
    "_lib.parzen_mutual_information_point.argtypes = [\n",
    "    np.ctypeslib.ndpointer(dtype=np.uint8, ndim=1, flags='C_CONTIGUOUS'),\n",
    "    np.ctypeslib.ndpointer(dtype=np.uint8, ndim=1, flags='C_CONTIGUOUS'),\n",
    "    ctypes.c_int,\n",
    "    np.ctypeslib.ndpointer(dtype=np.float32, ndim=1, flags='C_CONTIGUOUS')\n",
    "]\n",
    "\n",
    "overlay = Overlay('./build/assets/mutual_information_gradient_matrix/gem_wrapper.bit')\n",
    "mi_ip = overlay.mutual_information_derived_master_0\n",
    "\n",
    "size = 512\n",
    "image_dim = size*size\n",
    "matrix_dim = 256*256\n",
    "image_1 = allocate(shape=(image_dim,), dtype=np.uint8)\n",
    "image_2 = allocate(shape=(image_dim,), dtype=np.uint8)\n",
    "res = allocate(shape=(matrix_dim,), dtype=np.float32)\n",
    "\n",
    "res_cpu = np.empty(matrix_dim, dtype=np.float32)"
   ]
  },
  {
   "cell_type": "code",
   "execution_count": 3,
   "metadata": {},
   "outputs": [],
   "source": [
    "dcm1 = pydicom.dcmread('IM10_a.dcm')\n",
    "img1 = cv2.resize(dcm1.pixel_array, dsize=(size,size))\n",
    "img1 = cv2.normalize(img1, None, 0, 255, cv2.NORM_MINMAX, dtype=cv2.CV_8U)\n",
    "img1 = img1.flatten()\n",
    "\n",
    "dcm2 = pydicom.dcmread('IM10_b.dcm')\n",
    "img2 = cv2.resize(dcm2.pixel_array, dsize=(size,size))\n",
    "img2 = cv2.normalize(img2, None, 0, 255, cv2.NORM_MINMAX, dtype=cv2.CV_8U)\n",
    "img2 = img2.flatten()\n",
    "\n",
    "image_1[:] = img1\n",
    "image_2[:] = img2\n",
    "image_1.flush()\n",
    "image_2.flush()"
   ]
  },
  {
   "cell_type": "code",
   "execution_count": 4,
   "metadata": {},
   "outputs": [],
   "source": [
    "def fpga_benchmark(mi_ip, fixed_buf, moving_buf, res_buf):\n",
    "    mi_ip.write(0x10, fixed_buf.physical_address)\n",
    "    mi_ip.write(0x18, moving_buf.physical_address)\n",
    "    mi_ip.write(0x20, res_buf.physical_address)\n",
    "    mi_ip.write(0x00, 1)\n",
    "    while mi_ip.read(0x00) & 0x04 != 0x04:\n",
    "        pass\n",
    "    \n",
    "def fpga_benchmark_2(mi_ip, fixed_buf, moving_buf, res_buf):\n",
    "    mi_ip.write(0x10, fixed_buf.physical_address)\n",
    "    mi_ip.write(0x18, moving_buf.physical_address)\n",
    "    mi_ip.write(0x20, fixed_buf.physical_address)\n",
    "    mi_ip.write(0x28, moving_buf.physical_address)\n",
    "    mi_ip.write(0x30, res_buf.physical_address)\n",
    "    mi_ip.write(0x00, 1)\n",
    "    while mi_ip.read(0x00) & 0x04 != 0x04:\n",
    "        pass\n",
    "\n",
    "def cpu_benchmark(func, fixed, moving, res):\n",
    "    func(fixed, moving, 512*512, res)"
   ]
  },
  {
   "cell_type": "code",
   "execution_count": 5,
   "metadata": {},
   "outputs": [],
   "source": [
    "rails = pynq.get_rails()\n",
    "recorder = pynq.DataRecorder(rails['12V'].power)"
   ]
  },
  {
   "cell_type": "code",
   "execution_count": 6,
   "metadata": {},
   "outputs": [
    {
     "name": "stdout",
     "output_type": "stream",
     "text": [
      "fpga: 22.696682177000184 (avg per iter: 0.0022696682177000185)\n",
      "cpu: 15.279358624999986 (avg per iter: 0.015279358624999986)\n",
      "speedup: 6.73197893235841x\n"
     ]
    }
   ],
   "source": [
    "fpga_iter = 10_000\n",
    "iter = 1_000\n",
    "\n",
    "with recorder.record(0.1):\n",
    "    time.sleep(5)\n",
    "    \n",
    "    recorder.mark()\n",
    "    \n",
    "    for i in range(10_000_000):\n",
    "        pass\n",
    "    \n",
    "    recorder.mark()\n",
    "    \n",
    "    \n",
    "    start = timer()\n",
    "    for i in range(fpga_iter):\n",
    "        fpga_benchmark(mi_ip, image_1, image_2, res)\n",
    "    end = timer()\n",
    "    fpga_time = (end-start)/fpga_iter\n",
    "    print('fpga: {} (avg per iter: {})'.format(end-start, fpga_time))\n",
    "\n",
    "    recorder.mark()\n",
    "    \n",
    "    start = timer()\n",
    "    for i in range(iter):\n",
    "        cpu_benchmark(_lib.parzen_mutual_information_matrix, img1, img2, res_cpu)\n",
    "    end = timer()\n",
    "    cpu_time = (end-start)/iter\n",
    "    print('cpu: {} (avg per iter: {})'.format(end-start, cpu_time))\n",
    "          \n",
    "    print('speedup: {}x'.format(cpu_time/fpga_time))"
   ]
  },
  {
   "cell_type": "code",
   "execution_count": 7,
   "metadata": {},
   "outputs": [],
   "source": [
    "idle_p = np.mean(recorder.frame['12V_power'][recorder.frame.Mark == 0])\n",
    "loop_p = np.mean(recorder.frame['12V_power'][recorder.frame.Mark == 1])\n",
    "fpga_p = np.mean(recorder.frame['12V_power'][recorder.frame.Mark == 2])\n",
    "cpu_p = np.mean(recorder.frame['12V_power'][recorder.frame.Mark == 3])"
   ]
  },
  {
   "cell_type": "code",
   "execution_count": 8,
   "metadata": {},
   "outputs": [
    {
     "name": "stdout",
     "output_type": "stream",
     "text": [
      "0.2365953188054899\n",
      "0.2690603864734289\n",
      "power gain: 0.879339102669634x\n"
     ]
    }
   ],
   "source": [
    "print(fpga_p - loop_p)\n",
    "print(cpu_p - idle_p)\n",
    "print('power gain: {}x'.format((fpga_p - loop_p)/(cpu_p - idle_p)))"
   ]
  },
  {
   "cell_type": "code",
   "execution_count": 9,
   "metadata": {},
   "outputs": [],
   "source": [
    "overlay = Overlay('./build/assets/mutual_information/gem_wrapper.bit')\n",
    "mi_ip = overlay.parzen_master_0"
   ]
  },
  {
   "cell_type": "code",
   "execution_count": 10,
   "metadata": {},
   "outputs": [
    {
     "name": "stdout",
     "output_type": "stream",
     "text": [
      "fpga: 7.920659188000172 (avg per iter: 7.920659188000173e-05)\n",
      "cpu: 12.903212359999998 (avg per iter: 0.012903212359999998)\n",
      "speedup: 162.9057891993183x\n"
     ]
    }
   ],
   "source": [
    "fpga_iter = 10_000\n",
    "iter = 1_000\n",
    "\n",
    "with recorder.record(0.1):\n",
    "    start = timer()\n",
    "    for i in range(fpga_iter):\n",
    "        fpga_benchmark(mi_ip, image_1, image_2, res)\n",
    "    end = timer()\n",
    "    fpga_time = (end-start)/fpga_iter\n",
    "    print('fpga: {} (avg per iter: {})'.format(end-start, fpga_time))\n",
    "\n",
    "    recorder.mark()\n",
    "    \n",
    "    start = timer()\n",
    "    for i in range(iter):\n",
    "        cpu_benchmark(_lib.parzen_mutual_information_point, img1, img2, res_cpu)\n",
    "    end = timer()\n",
    "    cpu_time = (end-start)/iter\n",
    "    print('cpu: {} (avg per iter: {})'.format(end-start, cpu_time))\n",
    "    \n",
    "    print('speedup: {}x'.format(cpu_time/fpga_time))"
   ]
  },
  {
   "cell_type": "code",
   "execution_count": 11,
   "metadata": {},
   "outputs": [],
   "source": [
    "fpga_p = np.mean(recorder.frame['12V_power'][recorder.frame.Mark == 4])\n",
    "cpu_p = np.mean(recorder.frame['12V_power'][recorder.frame.Mark == 5])"
   ]
  },
  {
   "cell_type": "code",
   "execution_count": 12,
   "metadata": {},
   "outputs": [
    {
     "name": "stdout",
     "output_type": "stream",
     "text": [
      "0.10039757869249755\n",
      "0.37406521739130305\n",
      "power gain: 0.2683959214188937x\n"
     ]
    }
   ],
   "source": [
    "print(fpga_p - loop_p)\n",
    "print(cpu_p - idle_p)\n",
    "print('power gain: {}x'.format((fpga_p - loop_p)/(cpu_p - idle_p)))"
   ]
  }
 ],
 "metadata": {
  "kernelspec": {
   "display_name": "Python 3",
   "language": "python",
   "name": "python3"
  },
  "language_info": {
   "codemirror_mode": {
    "name": "ipython",
    "version": 3
   },
   "file_extension": ".py",
   "mimetype": "text/x-python",
   "name": "python",
   "nbconvert_exporter": "python",
   "pygments_lexer": "ipython3",
   "version": "3.8.10"
  }
 },
 "nbformat": 4,
 "nbformat_minor": 2
}